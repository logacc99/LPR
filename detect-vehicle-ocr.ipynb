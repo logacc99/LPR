{
  "nbformat": 4,
  "nbformat_minor": 0,
  "metadata": {
    "colab": {
      "name": "detect-vehicle-ocr",
      "provenance": [],
      "collapsed_sections": []
    },
    "kernelspec": {
      "name": "python3",
      "display_name": "Python 3"
    },
    "accelerator": "GPU"
  },
  "cells": [
    {
      "cell_type": "code",
      "metadata": {
        "id": "XOWjjZVMH3Ab",
        "colab": {
          "base_uri": "https://localhost:8080/"
        },
        "outputId": "f4382974-9156-40aa-c76e-effefb3186cb"
      },
      "source": [
        "from google.colab import drive\n",
        "drive.mount('/content/drive', force_remount=True)"
      ],
      "execution_count": 2,
      "outputs": [
        {
          "output_type": "stream",
          "name": "stdout",
          "text": [
            "Mounted at /content/drive\n"
          ]
        }
      ]
    },
    {
      "cell_type": "code",
      "metadata": {
        "colab": {
          "base_uri": "https://localhost:8080/"
        },
        "id": "Nn1wdshtIGMA",
        "outputId": "3c480b0f-cc55-45f4-ae9f-547f8640e4e4"
      },
      "source": [
        "!git clone https://github.com/logacc99/LPR.git"
      ],
      "execution_count": 3,
      "outputs": [
        {
          "output_type": "stream",
          "name": "stdout",
          "text": [
            "Cloning into 'LPR'...\n",
            "remote: Enumerating objects: 267, done.\u001b[K\n",
            "remote: Counting objects: 100% (267/267), done.\u001b[K\n",
            "remote: Compressing objects: 100% (217/217), done.\u001b[K\n",
            "remote: Total 267 (delta 46), reused 254 (delta 41), pack-reused 0\u001b[K\n",
            "Receiving objects: 100% (267/267), 1.05 MiB | 5.38 MiB/s, done.\n",
            "Resolving deltas: 100% (46/46), done.\n"
          ]
        }
      ]
    },
    {
      "cell_type": "code",
      "source": [
        "import os\n",
        "os.symlink('/content/drive/MyDrive/lpr-assets/models','/content/LPR/models')"
      ],
      "metadata": {
        "id": "vodmV8BEJVJP"
      },
      "execution_count": null,
      "outputs": []
    },
    {
      "cell_type": "code",
      "source": [
        "%cd /content/LPR"
      ],
      "metadata": {
        "colab": {
          "base_uri": "https://localhost:8080/"
        },
        "id": "16K63_idoAA_",
        "outputId": "2d949a47-c97a-46a2-8a14-a41098fa7593"
      },
      "execution_count": 2,
      "outputs": [
        {
          "output_type": "stream",
          "name": "stdout",
          "text": [
            "/content/LPR\n"
          ]
        }
      ]
    },
    {
      "cell_type": "code",
      "source": [
        "!rm -rf /content/LPR/models"
      ],
      "metadata": {
        "id": "sFuNdYrgLG_p"
      },
      "execution_count": 6,
      "outputs": []
    },
    {
      "cell_type": "code",
      "metadata": {
        "id": "m4i0x9GH5VGO"
      },
      "source": [
        "!pip install -qr requirements.txt # install"
      ],
      "execution_count": null,
      "outputs": []
    },
    {
      "cell_type": "code",
      "metadata": {
        "id": "ZM0q9IIrNBTN",
        "colab": {
          "base_uri": "https://localhost:8080/"
        },
        "outputId": "cd8a52f4-0f48-49cd-f136-a7b7529ffe9a"
      },
      "source": [
        "%load_ext autoreload\n",
        "%autoreload 2\n",
        "from full_flow import detect_batch, LP_Detector"
      ],
      "execution_count": 6,
      "outputs": [
        {
          "output_type": "stream",
          "name": "stderr",
          "text": [
            "From /content/LPR/full_flow.py:17: is_gpu_available (from tensorflow.python.framework.test_util) is deprecated and will be removed in a future version.\n",
            "Instructions for updating:\n",
            "Use `tf.config.list_physical_devices('GPU')` instead.\n"
          ]
        },
        {
          "output_type": "stream",
          "name": "stdout",
          "text": [
            "True\n"
          ]
        }
      ]
    },
    {
      "cell_type": "code",
      "source": [
        "lp_detector = LP_Detector()"
      ],
      "metadata": {
        "id": "73kh8LU61nRd",
        "colab": {
          "base_uri": "https://localhost:8080/"
        },
        "outputId": "12edc68d-7336-4bb6-8eb4-983a1f0179a0"
      },
      "execution_count": 7,
      "outputs": [
        {
          "output_type": "stream",
          "name": "stdout",
          "text": [
            "Loading WPOD-NET...\n"
          ]
        },
        {
          "output_type": "stream",
          "name": "stderr",
          "text": [
            "Fusing layers... \n"
          ]
        },
        {
          "output_type": "stream",
          "name": "stdout",
          "text": [
            "Loading Vehicle Detector...\n"
          ]
        },
        {
          "output_type": "stream",
          "name": "stderr",
          "text": [
            "Model Summary: 213 layers, 7225885 parameters, 0 gradients\n"
          ]
        },
        {
          "output_type": "stream",
          "name": "stdout",
          "text": [
            "Loading OCR Model...\n",
            "Loading Type Predictor...\n",
            "Initialize done.\n"
          ]
        }
      ]
    },
    {
      "cell_type": "code",
      "source": [
        "from glob import glob\n",
        "import cv2\n",
        "import numpy as np\n",
        "img_paths = glob('/content/drive/MyDrive/UFPR-ALPR-dataset/testing/**/*.png', recursive=True)\n",
        "# img_paths = glob('/content/*.png', recursive=True)\n",
        "img_paths = [path for path in img_paths if any([key in path for key in ['[01]','[10]','[20]','[30]']])]\n",
        "img_paths = [path for path in img_paths if '111[20]' in path]\n",
        "print(len(img_paths))\n",
        "print(img_paths[0])"
      ],
      "metadata": {
        "id": "S5ufkRJPP2iB",
        "outputId": "98591420-1a52-4715-ccce-e6d77033e45b",
        "colab": {
          "base_uri": "https://localhost:8080/"
        }
      },
      "execution_count": 4,
      "outputs": [
        {
          "output_type": "stream",
          "name": "stdout",
          "text": [
            "1\n",
            "/content/drive/MyDrive/UFPR-ALPR-dataset/testing/track0111/track0111[20].png\n"
          ]
        }
      ]
    },
    {
      "cell_type": "code",
      "source": [
        "np.random.shuffle(img_paths)"
      ],
      "metadata": {
        "id": "vyJ9UOhhshgo"
      },
      "execution_count": null,
      "outputs": []
    },
    {
      "cell_type": "code",
      "metadata": {
        "id": "XQSh1n_P8MTy",
        "outputId": "d96f9aa2-b27b-451a-a279-e4a019449521",
        "colab": {
          "base_uri": "https://localhost:8080/"
        }
      },
      "source": [
        "save_dir = '/content/drive/MyDrive/yolov5/output/testing-9-1'\n",
        "detect_batch(img_paths, lp_detector, save_dir = '/content/output')"
      ],
      "execution_count": 5,
      "outputs": [
        {
          "output_type": "stream",
          "name": "stderr",
          "text": [
            "\r  0%|          | 0/1 [00:00<?, ?it/s]"
          ]
        },
        {
          "output_type": "stream",
          "name": "stdout",
          "text": [
            "(240, 80)\n",
            "AIQP1056\n"
          ]
        },
        {
          "output_type": "stream",
          "name": "stderr",
          "text": [
            "100%|██████████| 1/1 [00:21<00:00, 21.89s/it]\n"
          ]
        }
      ]
    },
    {
      "cell_type": "markdown",
      "source": [
        "# Test accuracy"
      ],
      "metadata": {
        "id": "2YWH3rPT7YXi"
      }
    },
    {
      "cell_type": "code",
      "source": [
        "%rm -rf /content/testing"
      ],
      "metadata": {
        "id": "jnygcJJ8oFnH"
      },
      "execution_count": null,
      "outputs": []
    },
    {
      "cell_type": "code",
      "source": [
        "!unzip /content/testing.zip -d /content/testing"
      ],
      "metadata": {
        "id": "kwl89-SJB6Pa"
      },
      "execution_count": null,
      "outputs": []
    },
    {
      "cell_type": "code",
      "source": [
        "from glob import glob\n",
        "import cv2\n",
        "import numpy as np\n",
        "import editdistance\n",
        "gt_paths = glob('/content/drive/MyDrive/UFPR-ALPR-dataset/labels/ocr/testing/**/*.txt', recursive=True)\n",
        "gt_paths = [path for path in gt_paths if any([key in path for key in ['[01]', '[05]', '[10]','[15]' ,'[20]', '[25]', '[30]']])]\n",
        "pred_paths = glob('/content/output/**/*.txt', recursive=True)\n",
        "print(len(gt_paths), len(pred_paths))"
      ],
      "metadata": {
        "id": "R-JF9xFohBam"
      },
      "execution_count": null,
      "outputs": []
    },
    {
      "cell_type": "code",
      "source": [
        "total = len(pred_paths)\n",
        "from tqdm import tqdm\n",
        "wrong_detection = []\n",
        "wrong_count = 0\n",
        "avg_acc = 0\n",
        "for pred_path in tqdm(pred_paths):\n",
        "    fname = pred_path.split('/')[-1]\n",
        "    gt_path = '/content/drive/MyDrive/UFPR-ALPR-dataset/labels/ocr/testing/' + fname\n",
        "    with open(gt_path, 'r') as f:\n",
        "        anno = f.readline()\n",
        "        gt_ocr = anno.split(' ')[-1]\n",
        "        # print('GT:', gt_ocr)\n",
        "    \n",
        "    with open(pred_path, 'r') as f:\n",
        "        pred_ocr = f.read()\n",
        "        # print('Pred:', pred_ocr)\n",
        "\n",
        "    gt_ocr = gt_ocr.replace('-','')\n",
        "    if pred_ocr != 'None':\n",
        "        pred_ocr = pred_ocr[:-3]\n",
        "\n",
        "    if pred_ocr != gt_ocr:\n",
        "        wrong_count +=1\n",
        "        wrong_detection.append([fname, gt_ocr, pred_ocr])\n",
        "    \n",
        "    # Another metrics: Edit Distance\n",
        "    ed = editdistance.eval(gt_ocr, pred_ocr)\n",
        "    acc = 1-ed/len(gt_ocr)\n",
        "    if acc < 0: acc = 0\n",
        "    avg_acc += acc / len(gt_paths)"
      ],
      "metadata": {
        "id": "wDSynlk67jtV"
      },
      "execution_count": null,
      "outputs": []
    },
    {
      "cell_type": "code",
      "source": [
        "print('Wrong detections:', wrong_count)\n",
        "print('Accuracy:', (total-wrong_count)/total)\n",
        "print(avg_acc)"
      ],
      "metadata": {
        "id": "P8uqhTGMadVZ"
      },
      "execution_count": null,
      "outputs": []
    },
    {
      "cell_type": "code",
      "source": [
        "wrong_detection = sorted(wrong_detection, key = lambda x: x[0])\n",
        "for det in wrong_detection:\n",
        "    print(det)"
      ],
      "metadata": {
        "id": "wdDRn2zI8AVZ"
      },
      "execution_count": null,
      "outputs": []
    }
  ]
}