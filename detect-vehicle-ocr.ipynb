{
  "nbformat": 4,
  "nbformat_minor": 0,
  "metadata": {
    "colab": {
      "name": "detect-vehicle-ocr",
      "provenance": [],
      "collapsed_sections": []
    },
    "kernelspec": {
      "name": "python3",
      "display_name": "Python 3"
    },
    "accelerator": "GPU"
  },
  "cells": [
    {
      "cell_type": "code",
      "metadata": {
        "id": "XOWjjZVMH3Ab",
        "colab": {
          "base_uri": "https://localhost:8080/"
        },
        "outputId": "8634ac46-9c66-4e76-ea91-13a467583a1d"
      },
      "source": [
        "from google.colab import drive\n",
        "drive.mount('/content/drive', force_remount=True)"
      ],
      "execution_count": 1,
      "outputs": [
        {
          "output_type": "stream",
          "name": "stdout",
          "text": [
            "Mounted at /content/drive\n"
          ]
        }
      ]
    },
    {
      "cell_type": "code",
      "metadata": {
        "colab": {
          "base_uri": "https://localhost:8080/"
        },
        "id": "Nn1wdshtIGMA",
        "outputId": "eb315972-739e-41f9-f4f2-5e6c3ac60eb9"
      },
      "source": [
        "!git clone https://github.com/logacc99/LPR.git"
      ],
      "execution_count": 2,
      "outputs": [
        {
          "output_type": "stream",
          "name": "stdout",
          "text": [
            "Cloning into 'LPR'...\n",
            "remote: Enumerating objects: 283, done.\u001b[K\n",
            "remote: Counting objects: 100% (283/283), done.\u001b[K\n",
            "remote: Compressing objects: 100% (229/229), done.\u001b[K\n",
            "remote: Total 283 (delta 54), reused 261 (delta 42), pack-reused 0\u001b[K\n",
            "Receiving objects: 100% (283/283), 1.10 MiB | 7.55 MiB/s, done.\n",
            "Resolving deltas: 100% (54/54), done.\n"
          ]
        }
      ]
    },
    {
      "cell_type": "code",
      "source": [
        "import os\n",
        "os.symlink('/content/drive/MyDrive/lpr-assets/models','/content/LPR/models')"
      ],
      "metadata": {
        "id": "vodmV8BEJVJP"
      },
      "execution_count": null,
      "outputs": []
    },
    {
      "cell_type": "code",
      "source": [
        "%cd /content/LPR"
      ],
      "metadata": {
        "colab": {
          "base_uri": "https://localhost:8080/"
        },
        "id": "16K63_idoAA_",
        "outputId": "3e15e930-cc40-4728-fda9-7d97b910045c"
      },
      "execution_count": 115,
      "outputs": [
        {
          "output_type": "stream",
          "name": "stdout",
          "text": [
            "/content/LPR\n"
          ]
        }
      ]
    },
    {
      "cell_type": "code",
      "metadata": {
        "id": "m4i0x9GH5VGO",
        "colab": {
          "base_uri": "https://localhost:8080/"
        },
        "outputId": "8bf7861a-625c-47c3-c6d5-505d260465e3"
      },
      "source": [
        "!pip install -qr requirements.txt # install"
      ],
      "execution_count": 5,
      "outputs": [
        {
          "output_type": "stream",
          "name": "stdout",
          "text": [
            "\u001b[?25l\r\u001b[K     |▌                               | 10 kB 22.1 MB/s eta 0:00:01\r\u001b[K     |█                               | 20 kB 12.7 MB/s eta 0:00:01\r\u001b[K     |█▋                              | 30 kB 10.1 MB/s eta 0:00:01\r\u001b[K     |██▏                             | 40 kB 8.9 MB/s eta 0:00:01\r\u001b[K     |██▊                             | 51 kB 5.3 MB/s eta 0:00:01\r\u001b[K     |███▎                            | 61 kB 5.9 MB/s eta 0:00:01\r\u001b[K     |███▉                            | 71 kB 5.8 MB/s eta 0:00:01\r\u001b[K     |████▍                           | 81 kB 6.5 MB/s eta 0:00:01\r\u001b[K     |█████                           | 92 kB 5.0 MB/s eta 0:00:01\r\u001b[K     |█████▌                          | 102 kB 5.5 MB/s eta 0:00:01\r\u001b[K     |██████                          | 112 kB 5.5 MB/s eta 0:00:01\r\u001b[K     |██████▋                         | 122 kB 5.5 MB/s eta 0:00:01\r\u001b[K     |███████▏                        | 133 kB 5.5 MB/s eta 0:00:01\r\u001b[K     |███████▊                        | 143 kB 5.5 MB/s eta 0:00:01\r\u001b[K     |████████▎                       | 153 kB 5.5 MB/s eta 0:00:01\r\u001b[K     |████████▉                       | 163 kB 5.5 MB/s eta 0:00:01\r\u001b[K     |█████████▍                      | 174 kB 5.5 MB/s eta 0:00:01\r\u001b[K     |██████████                      | 184 kB 5.5 MB/s eta 0:00:01\r\u001b[K     |██████████▍                     | 194 kB 5.5 MB/s eta 0:00:01\r\u001b[K     |███████████                     | 204 kB 5.5 MB/s eta 0:00:01\r\u001b[K     |███████████▌                    | 215 kB 5.5 MB/s eta 0:00:01\r\u001b[K     |████████████                    | 225 kB 5.5 MB/s eta 0:00:01\r\u001b[K     |████████████▋                   | 235 kB 5.5 MB/s eta 0:00:01\r\u001b[K     |█████████████▏                  | 245 kB 5.5 MB/s eta 0:00:01\r\u001b[K     |█████████████▊                  | 256 kB 5.5 MB/s eta 0:00:01\r\u001b[K     |██████████████▎                 | 266 kB 5.5 MB/s eta 0:00:01\r\u001b[K     |██████████████▉                 | 276 kB 5.5 MB/s eta 0:00:01\r\u001b[K     |███████████████▍                | 286 kB 5.5 MB/s eta 0:00:01\r\u001b[K     |████████████████                | 296 kB 5.5 MB/s eta 0:00:01\r\u001b[K     |████████████████▌               | 307 kB 5.5 MB/s eta 0:00:01\r\u001b[K     |█████████████████               | 317 kB 5.5 MB/s eta 0:00:01\r\u001b[K     |█████████████████▋              | 327 kB 5.5 MB/s eta 0:00:01\r\u001b[K     |██████████████████▏             | 337 kB 5.5 MB/s eta 0:00:01\r\u001b[K     |██████████████████▊             | 348 kB 5.5 MB/s eta 0:00:01\r\u001b[K     |███████████████████▎            | 358 kB 5.5 MB/s eta 0:00:01\r\u001b[K     |███████████████████▉            | 368 kB 5.5 MB/s eta 0:00:01\r\u001b[K     |████████████████████▍           | 378 kB 5.5 MB/s eta 0:00:01\r\u001b[K     |████████████████████▉           | 389 kB 5.5 MB/s eta 0:00:01\r\u001b[K     |█████████████████████▍          | 399 kB 5.5 MB/s eta 0:00:01\r\u001b[K     |██████████████████████          | 409 kB 5.5 MB/s eta 0:00:01\r\u001b[K     |██████████████████████▌         | 419 kB 5.5 MB/s eta 0:00:01\r\u001b[K     |███████████████████████         | 430 kB 5.5 MB/s eta 0:00:01\r\u001b[K     |███████████████████████▋        | 440 kB 5.5 MB/s eta 0:00:01\r\u001b[K     |████████████████████████▏       | 450 kB 5.5 MB/s eta 0:00:01\r\u001b[K     |████████████████████████▊       | 460 kB 5.5 MB/s eta 0:00:01\r\u001b[K     |█████████████████████████▎      | 471 kB 5.5 MB/s eta 0:00:01\r\u001b[K     |█████████████████████████▉      | 481 kB 5.5 MB/s eta 0:00:01\r\u001b[K     |██████████████████████████▍     | 491 kB 5.5 MB/s eta 0:00:01\r\u001b[K     |███████████████████████████     | 501 kB 5.5 MB/s eta 0:00:01\r\u001b[K     |███████████████████████████▌    | 512 kB 5.5 MB/s eta 0:00:01\r\u001b[K     |████████████████████████████    | 522 kB 5.5 MB/s eta 0:00:01\r\u001b[K     |████████████████████████████▋   | 532 kB 5.5 MB/s eta 0:00:01\r\u001b[K     |█████████████████████████████▏  | 542 kB 5.5 MB/s eta 0:00:01\r\u001b[K     |█████████████████████████████▊  | 552 kB 5.5 MB/s eta 0:00:01\r\u001b[K     |██████████████████████████████▎ | 563 kB 5.5 MB/s eta 0:00:01\r\u001b[K     |██████████████████████████████▊ | 573 kB 5.5 MB/s eta 0:00:01\r\u001b[K     |███████████████████████████████▎| 583 kB 5.5 MB/s eta 0:00:01\r\u001b[K     |███████████████████████████████▉| 593 kB 5.5 MB/s eta 0:00:01\r\u001b[K     |████████████████████████████████| 596 kB 5.5 MB/s \n",
            "\u001b[?25h"
          ]
        }
      ]
    },
    {
      "cell_type": "code",
      "metadata": {
        "id": "ZM0q9IIrNBTN",
        "colab": {
          "base_uri": "https://localhost:8080/"
        },
        "outputId": "ff00d45c-3d27-4665-8358-d7adbeca4021"
      },
      "source": [
        "%load_ext autoreload\n",
        "%autoreload 2\n",
        "from full_flow import detect_batch, LP_Detector"
      ],
      "execution_count": 77,
      "outputs": [
        {
          "output_type": "stream",
          "name": "stdout",
          "text": [
            "The autoreload extension is already loaded. To reload it, use:\n",
            "  %reload_ext autoreload\n"
          ]
        }
      ]
    },
    {
      "cell_type": "code",
      "source": [
        "lp_detector = LP_Detector()"
      ],
      "metadata": {
        "id": "73kh8LU61nRd",
        "colab": {
          "base_uri": "https://localhost:8080/"
        },
        "outputId": "37ea75aa-11bf-4ba7-c334-925aaa018516"
      },
      "execution_count": 79,
      "outputs": [
        {
          "output_type": "stream",
          "name": "stdout",
          "text": [
            "Loading WPOD-NET...\n"
          ]
        },
        {
          "output_type": "stream",
          "name": "stderr",
          "text": [
            "Fusing layers... \n"
          ]
        },
        {
          "output_type": "stream",
          "name": "stdout",
          "text": [
            "Loading Vehicle Detector...\n"
          ]
        },
        {
          "output_type": "stream",
          "name": "stderr",
          "text": [
            "Model Summary: 213 layers, 7225885 parameters, 0 gradients\n"
          ]
        },
        {
          "output_type": "stream",
          "name": "stdout",
          "text": [
            "Loading OCR Model...\n",
            "Loading Type Predictor...\n",
            "Initialize done.\n"
          ]
        }
      ]
    },
    {
      "cell_type": "code",
      "source": [
        "from glob import glob\n",
        "import cv2\n",
        "import numpy as np\n",
        "img_paths = glob('/content/drive/MyDrive/UFPR-ALPR-dataset/testing/**/*.png', recursive=True)\n",
        "# img_paths = glob('/content/*.png', recursive=True)\n",
        "img_paths = [path for path in img_paths if any([key in path for key in ['[01]','[10]','[20]','[30]']])]\n",
        "# img_paths = [path for path in img_paths if '96' in path]\n",
        "print(len(img_paths))\n",
        "print(img_paths[0])"
      ],
      "metadata": {
        "id": "S5ufkRJPP2iB",
        "outputId": "2491fcbd-636b-492c-e3b0-5869cbff70b2",
        "colab": {
          "base_uri": "https://localhost:8080/"
        }
      },
      "execution_count": 109,
      "outputs": [
        {
          "output_type": "stream",
          "name": "stdout",
          "text": [
            "240\n",
            "/content/drive/MyDrive/UFPR-ALPR-dataset/testing/track0133/track0133[01].png\n"
          ]
        }
      ]
    },
    {
      "cell_type": "code",
      "source": [
        "np.random.shuffle(img_paths)"
      ],
      "metadata": {
        "id": "vyJ9UOhhshgo"
      },
      "execution_count": null,
      "outputs": []
    },
    {
      "cell_type": "code",
      "metadata": {
        "id": "XQSh1n_P8MTy",
        "outputId": "af601bc6-5af3-4f90-c134-af6d00dbda3b",
        "colab": {
          "base_uri": "https://localhost:8080/"
        }
      },
      "source": [
        "save_dir = '/content/drive/MyDrive/yolov5/output/testing-9-1'\n",
        "detect_batch(img_paths, lp_detector, save_dir = '/content/output')"
      ],
      "execution_count": 111,
      "outputs": [
        {
          "output_type": "stream",
          "name": "stdout",
          "text": [
            "True\n"
          ]
        },
        {
          "output_type": "stream",
          "name": "stderr",
          "text": [
            " 11%|█         | 26/240 [00:21<02:55,  1.22it/s]/content/LPR/full_flow.py:189: MatplotlibDeprecationWarning: Passing the block parameter of show() positionally is deprecated since Matplotlib 3.1; the parameter will become keyword-only in 3.3.\n",
            "  else:\n",
            "100%|██████████| 240/240 [03:33<00:00,  1.12it/s]\n"
          ]
        }
      ]
    },
    {
      "cell_type": "markdown",
      "source": [
        "# Test accuracy"
      ],
      "metadata": {
        "id": "2YWH3rPT7YXi"
      }
    },
    {
      "cell_type": "code",
      "source": [
        "%rm -rf /content/testing"
      ],
      "metadata": {
        "id": "jnygcJJ8oFnH"
      },
      "execution_count": null,
      "outputs": []
    },
    {
      "cell_type": "code",
      "source": [
        "!unzip /content/testing.zip -d /content/testing"
      ],
      "metadata": {
        "id": "kwl89-SJB6Pa"
      },
      "execution_count": null,
      "outputs": []
    },
    {
      "cell_type": "code",
      "source": [
        "from glob import glob\n",
        "import cv2\n",
        "import numpy as np\n",
        "import editdistance\n",
        "gt_paths = glob('/content/drive/MyDrive/UFPR-ALPR-dataset/labels/ocr/testing/**/*.txt', recursive=True)\n",
        "gt_paths = [path for path in gt_paths if any([key in path for key in ['[01]', '[05]', '[10]','[15]' ,'[20]', '[25]', '[30]']])]\n",
        "pred_paths = glob('/content/output/**/*.txt', recursive=True)\n",
        "print(len(gt_paths), len(pred_paths))"
      ],
      "metadata": {
        "id": "R-JF9xFohBam",
        "colab": {
          "base_uri": "https://localhost:8080/"
        },
        "outputId": "b6012625-011a-4229-a625-304a5dd39fe2"
      },
      "execution_count": 98,
      "outputs": [
        {
          "output_type": "stream",
          "name": "stdout",
          "text": [
            "True\n",
            "420 240\n"
          ]
        }
      ]
    },
    {
      "cell_type": "code",
      "source": [
        "total = len(pred_paths)\n",
        "from tqdm import tqdm\n",
        "wrong_detection = []\n",
        "wrong_count = 0\n",
        "avg_acc = 0\n",
        "for pred_path in tqdm(pred_paths):\n",
        "    fname = pred_path.split('/')[-1]\n",
        "    gt_path = '/content/drive/MyDrive/UFPR-ALPR-dataset/labels/ocr/testing/' + fname\n",
        "    with open(gt_path, 'r') as f:\n",
        "        anno = f.readline()\n",
        "        gt_ocr = anno.split(' ')[-1]\n",
        "        # print('GT:', gt_ocr)\n",
        "    \n",
        "    with open(pred_path, 'r') as f:\n",
        "        pred_ocr = f.read()\n",
        "        # print('Pred:', pred_ocr)\n",
        "\n",
        "    gt_ocr = gt_ocr.replace('-','')\n",
        "    if pred_ocr != 'None':\n",
        "        pred_ocr = pred_ocr[:-3]\n",
        "\n",
        "    if pred_ocr != gt_ocr:\n",
        "        wrong_count +=1\n",
        "        wrong_detection.append([fname, gt_ocr, pred_ocr])\n",
        "    \n",
        "    # Another metrics: Edit Distance\n",
        "    ed = editdistance.eval(gt_ocr, pred_ocr)\n",
        "    acc = 1-ed/len(gt_ocr)\n",
        "    if acc < 0: acc = 0\n",
        "    avg_acc += acc / len(gt_paths)"
      ],
      "metadata": {
        "id": "wDSynlk67jtV",
        "colab": {
          "base_uri": "https://localhost:8080/"
        },
        "outputId": "110dbc38-c4d2-4cfd-c2a3-4c1bafde7335"
      },
      "execution_count": 112,
      "outputs": [
        {
          "output_type": "stream",
          "name": "stderr",
          "text": [
            "100%|██████████| 240/240 [00:00<00:00, 567.87it/s]\n"
          ]
        }
      ]
    },
    {
      "cell_type": "code",
      "source": [
        "print('Wrong detections:', wrong_count)\n",
        "print('Accuracy:', (total-wrong_count)/total)\n",
        "print(avg_acc)"
      ],
      "metadata": {
        "id": "P8uqhTGMadVZ",
        "colab": {
          "base_uri": "https://localhost:8080/"
        },
        "outputId": "051f9892-e371-4513-932e-afbee3437f37"
      },
      "execution_count": 113,
      "outputs": [
        {
          "output_type": "stream",
          "name": "stdout",
          "text": [
            "Wrong detections: 62\n",
            "Accuracy: 0.7416666666666667\n",
            "0.4867346938775503\n"
          ]
        }
      ]
    },
    {
      "cell_type": "code",
      "source": [
        "wrong_detection = sorted(wrong_detection, key = lambda x: x[0])\n",
        "for det in wrong_detection:\n",
        "    print(det)"
      ],
      "metadata": {
        "id": "wdDRn2zI8AVZ",
        "colab": {
          "base_uri": "https://localhost:8080/"
        },
        "outputId": "9ed321af-0d1e-4bb4-83a7-c492abe9bbd6"
      },
      "execution_count": 114,
      "outputs": [
        {
          "output_type": "stream",
          "name": "stdout",
          "text": [
            "['track0091[01].txt', 'MLS5511', 'None']\n",
            "['track0094[30].txt', 'AUY8870', 'None']\n",
            "['track0095[01].txt', 'AVI2214', '4VI224']\n",
            "['track0097[01].txt', 'AYP7941', 'A6P7941']\n",
            "['track0097[10].txt', 'AYP7941', '4P794']\n",
            "['track0097[20].txt', 'AYP7941', 'A7P7941']\n",
            "['track0097[30].txt', 'AYP7941', 'AP794I']\n",
            "['track0099[01].txt', 'APE4685', 'IPE4685']\n",
            "['track0099[10].txt', 'APE4685', 'IPE54685']\n",
            "['track0099[30].txt', 'APE4685', 'IIPE4685']\n",
            "['track0102[01].txt', 'AHB1989', 'AH8I99']\n",
            "['track0102[30].txt', 'AHB1989', 'AHB0989']\n",
            "['track0104[10].txt', 'APL0100', 'PL0I00']\n",
            "['track0106[20].txt', 'ABN8528', 'None']\n",
            "['track0106[30].txt', 'ABN8528', 'None']\n",
            "['track0107[01].txt', 'MJO0862', 'None']\n",
            "['track0107[10].txt', 'MJO0862', 'RAND0N']\n",
            "['track0107[20].txt', 'MJO0862', 'None']\n",
            "['track0107[30].txt', 'MJO0862', 'RAIWID0W']\n",
            "['track0108[01].txt', 'ARY9308', 'None']\n",
            "['track0108[10].txt', 'ARY9308', 'None']\n",
            "['track0108[20].txt', 'ARY9308', 'None']\n",
            "['track0109[01].txt', 'AWZ7648', '4S']\n",
            "['track0109[10].txt', 'AWZ7648', 'S1']\n",
            "['track0109[20].txt', 'AWZ7648', '5S1']\n",
            "['track0109[30].txt', 'AWZ7648', '9']\n",
            "['track0111[30].txt', 'AIQ1056', 'AQ1056']\n",
            "['track0112[30].txt', 'APD4389', 'APO4389']\n",
            "['track0115[30].txt', 'CBB1894', 'CBR1894']\n",
            "['track0116[10].txt', 'PYP1906', '']\n",
            "['track0117[20].txt', 'AYE1896', 'None']\n",
            "['track0118[20].txt', 'AWL4456', 'AIIL4458']\n",
            "['track0119[01].txt', 'IOZ3616', 'UOZ3616']\n",
            "['track0119[20].txt', 'IOZ3616', 'None']\n",
            "['track0119[30].txt', 'IOZ3616', 'None']\n",
            "['track0122[01].txt', 'MCA9954', 'CA9954']\n",
            "['track0122[10].txt', 'MCA9954', 'CA9954']\n",
            "['track0122[30].txt', 'MCA9954', 'MC7A9954']\n",
            "['track0123[01].txt', 'ASG9143', '1A5G9I43']\n",
            "['track0123[10].txt', 'ASG9143', 'A904']\n",
            "['track0123[20].txt', 'ASG9143', 'IASH903']\n",
            "['track0123[30].txt', 'ASG9143', 'A50N9I43']\n",
            "['track0124[01].txt', 'MAW3186', 'HIW3186']\n",
            "['track0124[20].txt', 'MAW3186', 'MAM3186']\n",
            "['track0124[30].txt', 'MAW3186', 'MAM3186']\n",
            "['track0127[10].txt', 'AQW1379', 'IA0WI379']\n",
            "['track0127[20].txt', 'AQW1379', 'W7I379']\n",
            "['track0127[30].txt', 'AQW1379', 'NS']\n",
            "['track0128[01].txt', 'AWP0816', 'AMP0816']\n",
            "['track0128[20].txt', 'AWP0816', 'AMP0816']\n",
            "['track0128[30].txt', 'AWP0816', 'XP086']\n",
            "['track0129[01].txt', 'MAK0198', 'HR9DNTAG0SSI']\n",
            "['track0129[30].txt', 'MAK0198', 'NAK0198']\n",
            "['track0130[01].txt', 'ALJ9348', 'AILJ6348']\n",
            "['track0131[10].txt', 'ATT4025', 'ATTA025']\n",
            "['track0134[20].txt', 'ARG4938', 'None']\n",
            "['track0134[30].txt', 'ARG4938', 'None']\n",
            "['track0135[20].txt', 'BAS8216', 'BAS826']\n",
            "['track0138[01].txt', 'AUG0936', '09U36']\n",
            "['track0140[30].txt', 'AVA1466', 'None']\n",
            "['track0149[01].txt', 'AXW8502', 'None']\n",
            "['track0149[10].txt', 'AXW8502', 'None']\n"
          ]
        }
      ]
    },
    {
      "cell_type": "code",
      "source": [
        "['track0091[01].txt', 'MLS5511', 'None']\n",
        "['track0094[01].txt', 'AUY8870', 'A6']\n",
        "['track0094[30].txt', 'AUY8870', 'None']\n",
        "['track0095[01].txt', 'AVI2214', '4V224']\n",
        "['track0097[01].txt', 'AYP7941', '46P794']\n",
        "['track0097[10].txt', 'AYP7941', '4TP7941']\n",
        "['track0097[20].txt', 'AYP7941', 'A7P7941']\n",
        "['track0097[30].txt', 'AYP7941', '4P794I']\n",
        "['track0099[01].txt', 'APE4685', 'IPE4685']\n",
        "['track0099[20].txt', 'APE4685', 'AIPE4685']\n",
        "['track0099[30].txt', 'APE4685', 'IPE4685']\n",
        "['track0100[20].txt', 'ISK7086', 'I5K706']\n",
        "['track0101[20].txt', 'AMR2189', 'AMR2109']\n",
        "['track0102[01].txt', 'AHB1989', 'AHB1909']\n",
        "['track0107[01].txt', 'MJO0862', 'None']\n",
        "['track0107[10].txt', 'MJO0862', 'RAN1D0N']\n",
        "['track0107[20].txt', 'MJO0862', 'None']\n",
        "['track0107[30].txt', 'MJO0862', 'RAWD01W']\n",
        "['track0108[01].txt', 'ARY9308', 'None']\n",
        "['track0108[10].txt', 'ARY9308', 'None']\n",
        "['track0108[20].txt', 'ARY9308', 'None']\n",
        "['track0109[10].txt', 'AWZ7648', '']\n",
        "['track0109[20].txt', 'AWZ7648', '5']\n",
        "['track0109[30].txt', 'AWZ7648', '9']\n",
        "['track0110[30].txt', 'BBO8514', 'B8O8514']\n",
        "['track0111[20].txt', 'AIQ1056', 'AIQP1056']\n",
        "['track0112[30].txt', 'APD4389', 'APO4389']\n",
        "['track0114[01].txt', 'ASF5742', 'SF5742']\n",
        "['track0114[20].txt', 'ASF5742', 'SF5742']\n",
        "['track0115[30].txt', 'CBB1894', 'CBB1B94']\n",
        "['track0116[10].txt', 'PYP1906', '']\n",
        "['track0117[20].txt', 'AYE1896', 'None']\n",
        "['track0118[20].txt', 'AWL4456', 'AWL4458']\n",
        "['track0119[20].txt', 'IOZ3616', 'None']\n",
        "['track0119[30].txt', 'IOZ3616', 'None']\n",
        "['track0122[01].txt', 'MCA9954', 'CA9954']\n",
        "['track0122[10].txt', 'MCA9954', 'CA9954']\n",
        "['track0123[10].txt', 'ASG9143', 'A5G9I4']\n",
        "['track0123[20].txt', 'ASG9143', 'I45IG9I43']\n",
        "['track0123[30].txt', 'ASG9143', 'ASI9143']\n",
        "['track0124[01].txt', 'MAW3186', 'HAW3186']\n",
        "['track0124[10].txt', 'MAW3186', 'HAWF31P6']\n",
        "['track0124[20].txt', 'MAW3186', 'MAW31P6']\n",
        "['track0127[01].txt', 'AQW1379', 'T79']\n",
        "['track0127[10].txt', 'AQW1379', 'A0WI79']\n",
        "['track0127[20].txt', 'AQW1379', 'I379']\n",
        "['track0127[30].txt', 'AQW1379', 'I1']\n",
        "['track0128[01].txt', 'AWP0816', 'AMP0816']\n",
        "['track0128[10].txt', 'AWP0816', 'AHP0816']\n",
        "['track0128[20].txt', 'AWP0816', 'AMP0B16']\n",
        "['track0128[30].txt', 'AWP0816', 'AHP0816']\n",
        "['track0129[01].txt', 'MAK0198', 'PRP0NTAG90SSI']\n",
        "['track0129[30].txt', 'MAK0198', 'NAK0198']\n",
        "['track0130[20].txt', 'ALJ9348', '2ALJ9348']\n",
        "['track0134[20].txt', 'ARG4938', 'None']\n",
        "['track0134[30].txt', 'ARG4938', 'None']\n",
        "['track0135[20].txt', 'BAS8216', 'BAS826']\n",
        "['track0136[01].txt', 'AMO0663', 'AMU0663']\n",
        "['track0136[20].txt', 'AMO0663', 'AM00663I']\n",
        "['track0138[01].txt', 'AUG0936', '09036']\n",
        "['track0140[01].txt', 'AVA1466', 'VAI466']\n",
        "['track0140[30].txt', 'AVA1466', 'None']\n",
        "['track0144[30].txt', 'AYL2104', 'AYL204']\n",
        "['track0149[01].txt', 'AXW8502', 'None']\n",
        "['track0149[10].txt', 'AXW8502', 'None']"
      ],
      "metadata": {
        "id": "dZw6nuy1xu9o"
      },
      "execution_count": null,
      "outputs": []
    }
  ]
}